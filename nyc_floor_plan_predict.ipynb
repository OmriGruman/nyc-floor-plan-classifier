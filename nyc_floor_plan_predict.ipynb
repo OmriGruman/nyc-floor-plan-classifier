{
  "nbformat": 4,
  "nbformat_minor": 0,
  "metadata": {
    "colab": {
      "name": "nyc_floor_plan_predict.ipynb",
      "provenance": [],
      "collapsed_sections": []
    },
    "kernelspec": {
      "name": "python3",
      "display_name": "Python 3"
    },
    "language_info": {
      "name": "python"
    }
  },
  "cells": [
    {
      "cell_type": "markdown",
      "source": [
        "# Imports"
      ],
      "metadata": {
        "id": "uIN2KUkjbLMI"
      }
    },
    {
      "cell_type": "code",
      "source": [
        "import pickle\n",
        "import numpy as np\n",
        "from keras.preprocessing.image import load_img, img_to_array"
      ],
      "metadata": {
        "id": "kP3KROj5aLD7"
      },
      "execution_count": 8,
      "outputs": []
    },
    {
      "cell_type": "markdown",
      "source": [
        "# Prediction"
      ],
      "metadata": {
        "id": "xKppMyZpbONN"
      }
    },
    {
      "cell_type": "code",
      "execution_count": 9,
      "metadata": {
        "id": "o0UWQQVdZ32C"
      },
      "outputs": [],
      "source": [
        "def predict(image_path):\n",
        "    with open(\"nyc_floor_plan_classiffier.pkl\", \"rb\") as model_file:\n",
        "        model = pickle.load(model_file)\n",
        "\n",
        "    image = load_img(image_path, target_size=(224,224))\n",
        "    image = img_to_array(image)\n",
        "    image = image.reshape((1,) + image.shape)\n",
        "\n",
        "    return np.argmax(model.predict(image)) + 1"
      ]
    }
  ]
}